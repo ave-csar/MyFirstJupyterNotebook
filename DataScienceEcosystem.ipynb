{
 "cells": [
  {
   "cell_type": "markdown",
   "id": "7763f60a-ae91-439f-a9a9-a571de991d19",
   "metadata": {},
   "source": [
    "# Data Science Tools and Ecosystem"
   ]
  },
  {
   "cell_type": "markdown",
   "id": "05962352-cdd2-4e78-8c22-e14c51f6ba7c",
   "metadata": {},
   "source": [
    "In this notebook, Data Science Tools and Ecosystem are summarized."
   ]
  },
  {
   "cell_type": "markdown",
   "id": "71af2fa9-24fd-4e84-ba72-54eb5775a8a3",
   "metadata": {},
   "source": [
    "Objectives:\n",
    "* List some of the most popular languages used by Data Scientists\n",
    "* List some of the libraries most commonly used by Data Scientists\n",
    "* Show how to make basic arithmetic calculations in Jupyter Notebook"
   ]
  },
  {
   "cell_type": "markdown",
   "id": "96eb8f1e-a99b-4f00-aecc-73b1877a869e",
   "metadata": {
    "tags": []
   },
   "source": [
    "Some of the popular languages that Data Scientists use are:\n",
    "1. R\n",
    "2. Python\n",
    "3. Javascript"
   ]
  },
  {
   "cell_type": "markdown",
   "id": "abd27bbd-f975-4a93-b1bd-4845d7132aa0",
   "metadata": {},
   "source": [
    "Some of the commonly used libraries used by Data Scientists include:\n",
    "1. ggplot\n",
    "2. Pandas\n",
    "3. Plotly"
   ]
  },
  {
   "cell_type": "markdown",
   "id": "963e8408-4b22-4b4a-8e19-ca9c9e929b6f",
   "metadata": {},
   "source": [
    "| Data Science Tools |\n",
    "| --------------- |\n",
    "| JupyterLab |\n",
    "| Spyder |\n",
    "| Pycharm |"
   ]
  },
  {
   "cell_type": "markdown",
   "id": "9d20de0f-cc77-4c9b-8168-3933c72b570d",
   "metadata": {},
   "source": [
    "### Below are a few examples of evaluating arithmetic expressions in Python"
   ]
  },
  {
   "cell_type": "code",
   "execution_count": 2,
   "id": "d53f4cc8-4168-43ed-acb1-6dab54143c77",
   "metadata": {
    "tags": []
   },
   "outputs": [
    {
     "data": {
      "text/plain": [
       "17"
      ]
     },
     "execution_count": 2,
     "metadata": {},
     "output_type": "execute_result"
    }
   ],
   "source": [
    "# This is how can make basic arithmetic operations\n",
    "\n",
    "(3*4)+5"
   ]
  },
  {
   "cell_type": "code",
   "execution_count": 6,
   "id": "c1565fb7-f376-42b6-acd2-ebd604983220",
   "metadata": {
    "tags": []
   },
   "outputs": [
    {
     "name": "stdout",
     "output_type": "stream",
     "text": [
      "200 min are 3.3333333333333335 hours\n"
     ]
    }
   ],
   "source": [
    "# This will convert 200 minutes to hours by diving by 60\n",
    "\n",
    "h = 200/60\n",
    "print(\"200 min are \" + str(h) + \" hours\")\n"
   ]
  },
  {
   "cell_type": "markdown",
   "id": "397656e8-ed5f-4e1c-828c-2b4b1cb19ad1",
   "metadata": {
    "tags": []
   },
   "source": [
    "## Author\n",
    "Cesar Avelar"
   ]
  },
  {
   "cell_type": "code",
   "execution_count": null,
   "id": "a5e12571-a624-466a-9bd2-40abf164d156",
   "metadata": {},
   "outputs": [],
   "source": []
  }
 ],
 "metadata": {
  "kernelspec": {
   "display_name": "Python",
   "language": "python",
   "name": "conda-env-python-py"
  },
  "language_info": {
   "codemirror_mode": {
    "name": "ipython",
    "version": 3
   },
   "file_extension": ".py",
   "mimetype": "text/x-python",
   "name": "python",
   "nbconvert_exporter": "python",
   "pygments_lexer": "ipython3",
   "version": "3.7.12"
  }
 },
 "nbformat": 4,
 "nbformat_minor": 5
}
